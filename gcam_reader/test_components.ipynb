{
 "cells": [
  {
   "cell_type": "markdown",
   "metadata": {},
   "source": [
    "# Development tests for gcam_reader components\n",
    "These are meant for diagnosing problems during development.  As such, they are neither permanent nor comprehensive.  Generally they reflect whatever was a pain to get working during the last development iteration.  Real tests are in the `tests/` subdir."
   ]
  },
  {
   "cell_type": "code",
   "execution_count": 1,
   "metadata": {
    "collapsed": true
   },
   "outputs": [],
   "source": [
    "dbpath = \"/Library/Frameworks/R.framework/Versions/3.3/Resources/library/rgcam/extdata\"\n"
   ]
  },
  {
   "cell_type": "code",
   "execution_count": 2,
   "metadata": {
    "collapsed": true
   },
   "outputs": [],
   "source": [
    "dbfile = \"sample_basexdb\""
   ]
  },
  {
   "cell_type": "code",
   "execution_count": 3,
   "metadata": {},
   "outputs": [],
   "source": [
    "import connections as conn\n",
    "import pandas as pd\n",
    "import sys"
   ]
  },
  {
   "cell_type": "code",
   "execution_count": 4,
   "metadata": {
    "collapsed": true
   },
   "outputs": [],
   "source": [
    "lcon = conn.LocalDBConn(dbpath, dbfile, suppress_gabble=False)"
   ]
  },
  {
   "cell_type": "code",
   "execution_count": 5,
   "metadata": {
    "collapsed": true
   },
   "outputs": [],
   "source": [
    "co2_query = '''<ClimateQuery title=\"CO2 concentrations\">\n",
    "                 <axis1 name=\"CO2-concentration\">none</axis1>\n",
    "                 <axis2 name=\"Year\">CO2-concentration[@year]</axis2>\n",
    "                 <xPath buildList=\"true\" dataName=\"CO2-concentration\" group=\"false\" sumAll=\"false\">climate-model/CO2-concentration/text()</xPath>\n",
    "                 <comments/>\n",
    "               </ClimateQuery>'''"
   ]
  },
  {
   "cell_type": "code",
   "execution_count": 6,
   "metadata": {
    "collapsed": true
   },
   "outputs": [],
   "source": [
    "bad_query = '''<ClimateQuery title=\"CO2 concentrations\">\n",
    "                 <axis1 name=\"CO2-concentration\">none</axis1>\n",
    "                 <axis2 name=\"Year\">CO2-concentration[@year]</axis2>\n",
    "                 <xPath buildList=\"true\" dataName=\"CO2-concentration\" group=\"false\" sumAll=\"false\">climate-model/frobnitz-coef/text()</xPath>\n",
    "                 <comments/>\n",
    "               </ClimateQuery>'''"
   ]
  },
  {
   "cell_type": "code",
   "execution_count": 7,
   "metadata": {},
   "outputs": [],
   "source": [
    "rslt = lcon.runQuery(co2_query)"
   ]
  },
  {
   "cell_type": "code",
   "execution_count": 8,
   "metadata": {},
   "outputs": [
    {
     "name": "stdout",
     "output_type": "stream",
     "text": [
      "   Units                                           scenario  Year    value\n",
      "0    PPM  Reference-filtered,date=2016-13-12T05:31:05-08:00  1975    0.000\n",
      "1    PPM  Reference-filtered,date=2016-13-12T05:31:05-08:00  1980  331.168\n",
      "2    PPM  Reference-filtered,date=2016-13-12T05:31:05-08:00  1985  338.288\n",
      "3    PPM  Reference-filtered,date=2016-13-12T05:31:05-08:00  1990  346.328\n",
      "4    PPM  Reference-filtered,date=2016-13-12T05:31:05-08:00  1995  355.306\n",
      "5    PPM  Reference-filtered,date=2016-13-12T05:31:05-08:00  2000  364.147\n",
      "6    PPM  Reference-filtered,date=2016-13-12T05:31:05-08:00  2005  372.824\n",
      "7    PPM  Reference-filtered,date=2016-13-12T05:31:05-08:00  2010  383.269\n",
      "8    PPM  Reference-filtered,date=2016-13-12T05:31:05-08:00  2015  394.158\n",
      "9    PPM  Reference-filtered,date=2016-13-12T05:31:05-08:00  2020  406.584\n",
      "10   PPM  Reference-filtered,date=2016-13-12T05:31:05-08:00  2025  420.558\n",
      "11   PPM  Reference-filtered,date=2016-13-12T05:31:05-08:00  2030  436.009\n",
      "12   PPM  Reference-filtered,date=2016-13-12T05:31:05-08:00  2035  452.618\n",
      "13   PPM  Reference-filtered,date=2016-13-12T05:31:05-08:00  2040  470.126\n",
      "14   PPM  Reference-filtered,date=2016-13-12T05:31:05-08:00  2045  488.430\n",
      "15   PPM  Reference-filtered,date=2016-13-12T05:31:05-08:00  2050  507.433\n",
      "16   PPM  Reference-filtered,date=2016-13-12T05:31:05-08:00  2055  527.169\n",
      "17   PPM  Reference-filtered,date=2016-13-12T05:31:05-08:00  2060  547.744\n",
      "18   PPM  Reference-filtered,date=2016-13-12T05:31:05-08:00  2065  569.203\n",
      "19   PPM  Reference-filtered,date=2016-13-12T05:31:05-08:00  2070  591.571\n",
      "20   PPM  Reference-filtered,date=2016-13-12T05:31:05-08:00  2075  614.642\n",
      "21   PPM  Reference-filtered,date=2016-13-12T05:31:05-08:00  2080  638.131\n",
      "22   PPM  Reference-filtered,date=2016-13-12T05:31:05-08:00  2085  662.338\n",
      "23   PPM  Reference-filtered,date=2016-13-12T05:31:05-08:00  2090  687.540\n",
      "24   PPM  Reference-filtered,date=2016-13-12T05:31:05-08:00  2095  713.172\n",
      "25   PPM  Reference-filtered,date=2016-13-12T05:31:05-08:00  2100  738.939\n"
     ]
    }
   ],
   "source": [
    "print(rslt)"
   ]
  },
  {
   "cell_type": "code",
   "execution_count": 9,
   "metadata": {},
   "outputs": [
    {
     "name": "stdout",
     "output_type": "stream",
     "text": [
      "None\n"
     ]
    },
    {
     "name": "stderr",
     "output_type": "stream",
     "text": [
      "Model interface returned empty string.\n",
      "Query string: \n",
      "\t<ClimateQuery title=\"CO2 concentrations\">                 <axis1 name=\"CO2-concentration\">none</axis1>                 <axis2 name=\"Year\">CO2-concentration[@year]</axis2>                 <xPath buildList=\"true\" dataName=\"CO2-concentration\" group=\"false\" sumAll=\"false\">climate-model/frobnitz-coef/text()</xPath>                 <comments/>               </ClimateQuery>\n",
      "Model interface stderr output:\n",
      "\tAbout to perform query: collection()/scenario\n",
      "About to perform query: collection()/scenario[ (@name='Reference-filtered' and @date='2016-13-12T05:31:05-08:00') ]/world/climate-model/frobnitz-coef/text()\n",
      "In Function: 1502741436456\n",
      "After Function: 1502741436461\n",
      "\n"
     ]
    }
   ],
   "source": [
    "try:\n",
    "    badresult = lcon.runQuery(bad_query)\n",
    "except:\n",
    "    sys.stderr.write(\"Attempt failed.\")\n",
    "else:\n",
    "    print(badresult)"
   ]
  },
  {
   "cell_type": "code",
   "execution_count": 10,
   "metadata": {},
   "outputs": [
    {
     "name": "stdout",
     "output_type": "stream",
     "text": [
      "None\n"
     ]
    }
   ],
   "source": [
    "try:\n",
    "    badresult2 = lcon.runQuery(bad_query, warn_empty=False)\n",
    "except:\n",
    "    sys.stderr.write(\"Attempt failed.\")\n",
    "else:\n",
    "    print(badresult2)"
   ]
  },
  {
   "cell_type": "code",
   "execution_count": null,
   "metadata": {
    "collapsed": true
   },
   "outputs": [],
   "source": []
  }
 ],
 "metadata": {
  "kernelspec": {
   "display_name": "Python 3",
   "language": "python",
   "name": "python3"
  },
  "language_info": {
   "codemirror_mode": {
    "name": "ipython",
    "version": 3
   },
   "file_extension": ".py",
   "mimetype": "text/x-python",
   "name": "python",
   "nbconvert_exporter": "python",
   "pygments_lexer": "ipython3",
   "version": "3.6.0"
  }
 },
 "nbformat": 4,
 "nbformat_minor": 2
}
